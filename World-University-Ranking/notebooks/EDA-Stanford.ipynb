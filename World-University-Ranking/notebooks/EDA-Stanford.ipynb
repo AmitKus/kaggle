{
 "cells": [
  {
   "cell_type": "code",
   "execution_count": 1,
   "metadata": {
    "ExecuteTime": {
     "end_time": "2020-12-01T02:38:16.597472Z",
     "start_time": "2020-12-01T02:38:15.597243Z"
    }
   },
   "outputs": [],
   "source": [
    "# Load the required libraries\n",
    "import os\n",
    "\n",
    "import matplotlib.pyplot as plt\n",
    "import pandas as pd\n",
    "import seaborn as sns"
   ]
  },
  {
   "cell_type": "markdown",
   "metadata": {},
   "source": [
    "# Loading different datasets"
   ]
  },
  {
   "cell_type": "code",
   "execution_count": 2,
   "metadata": {
    "ExecuteTime": {
     "end_time": "2020-12-01T02:38:16.607140Z",
     "start_time": "2020-12-01T02:38:16.599582Z"
    }
   },
   "outputs": [
    {
     "name": "stdout",
     "output_type": "stream",
     "text": [
      "All files:\n",
      "timesData.csv\tcwurData.csv\tarchive.zip\tshanghaiData.csv\tschool_and_country_table.csv\teducation_expenditure_supplementary_data.csv\teducational_attainment_supplementary_data.csv\tcsv files\n",
      "timesData.csv\tcwurData.csv\tshanghaiData.csv\tschool_and_country_table.csv\teducation_expenditure_supplementary_data.csv\teducational_attainment_supplementary_data.csv\t"
     ]
    }
   ],
   "source": [
    "path = '../data/'\n",
    "\n",
    "files = os.listdir(path)\n",
    "\n",
    "print('All files:')\n",
    "for f in files:\n",
    "\tprint(f,end='\\t')\n",
    "    \n",
    "print('csv files')\n",
    "for f in files:\n",
    "    if '.csv' in f:\n",
    "        print(f,end='\\t')\n"
   ]
  },
  {
   "cell_type": "markdown",
   "metadata": {},
   "source": [
    "## timesData"
   ]
  },
  {
   "cell_type": "code",
   "execution_count": 3,
   "metadata": {
    "ExecuteTime": {
     "end_time": "2020-12-01T02:38:16.717094Z",
     "start_time": "2020-12-01T02:38:16.609660Z"
    }
   },
   "outputs": [
    {
     "name": "stdout",
     "output_type": "stream",
     "text": [
      "<class 'pandas.core.frame.DataFrame'>\n",
      "RangeIndex: 2603 entries, 0 to 2602\n",
      "Data columns (total 14 columns):\n",
      " #   Column                  Non-Null Count  Dtype  \n",
      "---  ------                  --------------  -----  \n",
      " 0   world_rank              2603 non-null   object \n",
      " 1   university_name         2603 non-null   object \n",
      " 2   country                 2603 non-null   object \n",
      " 3   teaching                2603 non-null   float64\n",
      " 4   international           2603 non-null   object \n",
      " 5   research                2603 non-null   float64\n",
      " 6   citations               2603 non-null   float64\n",
      " 7   income                  2603 non-null   object \n",
      " 8   total_score             2603 non-null   object \n",
      " 9   num_students            2544 non-null   object \n",
      " 10  student_staff_ratio     2544 non-null   float64\n",
      " 11  international_students  2536 non-null   object \n",
      " 12  female_male_ratio       2370 non-null   object \n",
      " 13  year                    2603 non-null   int64  \n",
      "dtypes: float64(4), int64(1), object(9)\n",
      "memory usage: 284.8+ KB\n"
     ]
    }
   ],
   "source": [
    "timesData = pd.read_csv('../data/timesData.csv')\n",
    "timesData.info()"
   ]
  },
  {
   "cell_type": "markdown",
   "metadata": {},
   "source": [
    "### Data cleanup\n",
    "1. international_students: remove %\n",
    "2. female-male ratio: split column"
   ]
  },
  {
   "cell_type": "code",
   "execution_count": 4,
   "metadata": {
    "ExecuteTime": {
     "end_time": "2020-12-01T02:38:16.801067Z",
     "start_time": "2020-12-01T02:38:16.719321Z"
    }
   },
   "outputs": [],
   "source": [
    "timesData['international'] = pd.to_numeric(timesData['international'], errors='coerce')\n",
    "timesData['income'] = pd.to_numeric(timesData['income'], errors='coerce')\n",
    "timesData['total_score'] = pd.to_numeric(timesData['total_score'], errors='coerce')"
   ]
  },
  {
   "cell_type": "code",
   "execution_count": 5,
   "metadata": {
    "ExecuteTime": {
     "end_time": "2020-12-01T02:38:16.925712Z",
     "start_time": "2020-12-01T02:38:16.803272Z"
    },
    "code_folding": []
   },
   "outputs": [],
   "source": [
    "def convertcomma(x):\n",
    "    if isinstance(x, str):\n",
    "        x = x.replace(',','')\n",
    "    return x\n",
    "timesData['num_students']= timesData['num_students'].apply(lambda x: convertcomma(x))\n",
    "timesData['num_students'] = pd.to_numeric(timesData['num_students'], errors='coerce')"
   ]
  },
  {
   "cell_type": "code",
   "execution_count": 6,
   "metadata": {
    "ExecuteTime": {
     "end_time": "2020-12-01T02:38:17.057446Z",
     "start_time": "2020-12-01T02:38:16.931173Z"
    }
   },
   "outputs": [],
   "source": [
    "def convertpercentage(x):\n",
    "    if isinstance(x, str):\n",
    "        x = x.replace('%','')\n",
    "    return x\n",
    "timesData['international_students'] = timesData['international_students'].apply(lambda x: convertpercentage(x))\n",
    "timesData['international_students'] = pd.to_numeric(timesData['international_students'], errors='coerce')"
   ]
  },
  {
   "cell_type": "code",
   "execution_count": 7,
   "metadata": {
    "ExecuteTime": {
     "end_time": "2020-12-01T02:38:17.197287Z",
     "start_time": "2020-12-01T02:38:17.062083Z"
    }
   },
   "outputs": [],
   "source": [
    "timesData[['female','male']] = timesData['female_male_ratio'].str.split(':',expand=True) \n",
    "timesData['female'] = pd.to_numeric(timesData['female'], errors='coerce')\n",
    "timesData['male'] = pd.to_numeric(timesData['male'], errors='coerce')"
   ]
  },
  {
   "cell_type": "code",
   "execution_count": 8,
   "metadata": {
    "ExecuteTime": {
     "end_time": "2020-12-01T02:38:17.314701Z",
     "start_time": "2020-12-01T02:38:17.199204Z"
    }
   },
   "outputs": [
    {
     "name": "stdout",
     "output_type": "stream",
     "text": [
      "<class 'pandas.core.frame.DataFrame'>\n",
      "RangeIndex: 2603 entries, 0 to 2602\n",
      "Data columns (total 16 columns):\n",
      " #   Column                  Non-Null Count  Dtype  \n",
      "---  ------                  --------------  -----  \n",
      " 0   world_rank              2603 non-null   object \n",
      " 1   university_name         2603 non-null   object \n",
      " 2   country                 2603 non-null   object \n",
      " 3   teaching                2603 non-null   float64\n",
      " 4   international           2594 non-null   float64\n",
      " 5   research                2603 non-null   float64\n",
      " 6   citations               2603 non-null   float64\n",
      " 7   income                  2385 non-null   float64\n",
      " 8   total_score             1201 non-null   float64\n",
      " 9   num_students            2544 non-null   float64\n",
      " 10  student_staff_ratio     2544 non-null   float64\n",
      " 11  international_students  2536 non-null   float64\n",
      " 12  female_male_ratio       2370 non-null   object \n",
      " 13  year                    2603 non-null   int64  \n",
      " 14  female                  2367 non-null   float64\n",
      " 15  male                    2367 non-null   float64\n",
      "dtypes: float64(11), int64(1), object(4)\n",
      "memory usage: 325.5+ KB\n"
     ]
    }
   ],
   "source": [
    "timesData.info()"
   ]
  },
  {
   "cell_type": "markdown",
   "metadata": {},
   "source": [
    "# Stanford University\n",
    "\n",
    "## timesData"
   ]
  },
  {
   "cell_type": "code",
   "execution_count": 9,
   "metadata": {
    "ExecuteTime": {
     "end_time": "2020-12-01T02:38:17.418079Z",
     "start_time": "2020-12-01T02:38:17.317184Z"
    }
   },
   "outputs": [],
   "source": [
    "timesData_Stanford = timesData[timesData['university_name'].apply(lambda x: 'stanford' in x.lower())]"
   ]
  },
  {
   "cell_type": "code",
   "execution_count": 39,
   "metadata": {
    "ExecuteTime": {
     "end_time": "2020-12-01T02:49:53.551138Z",
     "start_time": "2020-12-01T02:49:53.537992Z"
    }
   },
   "outputs": [
    {
     "name": "stderr",
     "output_type": "stream",
     "text": [
      "/home/amit/miniconda3/envs/ds_basic/lib/python3.8/site-packages/pandas/core/indexing.py:966: SettingWithCopyWarning: \n",
      "A value is trying to be set on a copy of a slice from a DataFrame.\n",
      "Try using .loc[row_indexer,col_indexer] = value instead\n",
      "\n",
      "See the caveats in the documentation: https://pandas.pydata.org/pandas-docs/stable/user_guide/indexing.html#returning-a-view-versus-a-copy\n",
      "  self.obj[item] = s\n"
     ]
    }
   ],
   "source": [
    "# Change the ranking to integer\n",
    "timesData_Stanford.loc[:,'world_rank'] = pd.to_numeric(timesData_Stanford.loc[:,'world_rank'],errors='coerce')"
   ]
  },
  {
   "cell_type": "markdown",
   "metadata": {},
   "source": [
    "## cwurData"
   ]
  },
  {
   "cell_type": "code",
   "execution_count": 11,
   "metadata": {
    "ExecuteTime": {
     "end_time": "2020-12-01T02:38:17.629056Z",
     "start_time": "2020-12-01T02:38:17.512498Z"
    }
   },
   "outputs": [
    {
     "name": "stdout",
     "output_type": "stream",
     "text": [
      "<class 'pandas.core.frame.DataFrame'>\n",
      "RangeIndex: 2200 entries, 0 to 2199\n",
      "Data columns (total 14 columns):\n",
      " #   Column                Non-Null Count  Dtype  \n",
      "---  ------                --------------  -----  \n",
      " 0   world_rank            2200 non-null   int64  \n",
      " 1   institution           2200 non-null   object \n",
      " 2   country               2200 non-null   object \n",
      " 3   national_rank         2200 non-null   int64  \n",
      " 4   quality_of_education  2200 non-null   int64  \n",
      " 5   alumni_employment     2200 non-null   int64  \n",
      " 6   quality_of_faculty    2200 non-null   int64  \n",
      " 7   publications          2200 non-null   int64  \n",
      " 8   influence             2200 non-null   int64  \n",
      " 9   citations             2200 non-null   int64  \n",
      " 10  broad_impact          2000 non-null   float64\n",
      " 11  patents               2200 non-null   int64  \n",
      " 12  score                 2200 non-null   float64\n",
      " 13  year                  2200 non-null   int64  \n",
      "dtypes: float64(2), int64(10), object(2)\n",
      "memory usage: 240.8+ KB\n"
     ]
    }
   ],
   "source": [
    "## cwurData\n",
    "cwurData = pd.read_csv('../data/cwurData.csv')\n",
    "cwurData.info()"
   ]
  },
  {
   "cell_type": "code",
   "execution_count": 12,
   "metadata": {
    "ExecuteTime": {
     "end_time": "2020-12-01T02:38:17.698735Z",
     "start_time": "2020-12-01T02:38:17.631311Z"
    }
   },
   "outputs": [],
   "source": [
    "cwurData_Stanford = cwurData[cwurData['institution'].apply(lambda x: 'stanford' in x.lower())]"
   ]
  },
  {
   "cell_type": "markdown",
   "metadata": {},
   "source": [
    "## shanghaiData"
   ]
  },
  {
   "cell_type": "code",
   "execution_count": 13,
   "metadata": {
    "ExecuteTime": {
     "end_time": "2020-12-01T02:38:17.839796Z",
     "start_time": "2020-12-01T02:38:17.700952Z"
    }
   },
   "outputs": [
    {
     "name": "stdout",
     "output_type": "stream",
     "text": [
      "<class 'pandas.core.frame.DataFrame'>\n",
      "RangeIndex: 4897 entries, 0 to 4896\n",
      "Data columns (total 11 columns):\n",
      " #   Column           Non-Null Count  Dtype  \n",
      "---  ------           --------------  -----  \n",
      " 0   world_rank       4897 non-null   object \n",
      " 1   university_name  4896 non-null   object \n",
      " 2   national_rank    4896 non-null   object \n",
      " 3   total_score      1101 non-null   float64\n",
      " 4   alumni           4896 non-null   float64\n",
      " 5   award            4895 non-null   float64\n",
      " 6   hici             4895 non-null   float64\n",
      " 7   ns               4875 non-null   float64\n",
      " 8   pub              4895 non-null   float64\n",
      " 9   pcp              4895 non-null   float64\n",
      " 10  year             4897 non-null   int64  \n",
      "dtypes: float64(7), int64(1), object(3)\n",
      "memory usage: 421.0+ KB\n"
     ]
    }
   ],
   "source": [
    "## Shanghai data\n",
    "shanghaiData = pd.read_csv('../data/shanghaiData.csv')\n",
    "shanghaiData.info()"
   ]
  },
  {
   "cell_type": "code",
   "execution_count": 14,
   "metadata": {
    "ExecuteTime": {
     "end_time": "2020-12-01T02:38:17.902509Z",
     "start_time": "2020-12-01T02:38:17.842698Z"
    }
   },
   "outputs": [
    {
     "name": "stderr",
     "output_type": "stream",
     "text": [
      "<ipython-input-14-9bdb03a2e290>:2: SettingWithCopyWarning: \n",
      "A value is trying to be set on a copy of a slice from a DataFrame.\n",
      "Try using .loc[row_indexer,col_indexer] = value instead\n",
      "\n",
      "See the caveats in the documentation: https://pandas.pydata.org/pandas-docs/stable/user_guide/indexing.html#returning-a-view-versus-a-copy\n",
      "  shanghaiData_Stanford['world_rank'] = pd.to_numeric(shanghaiData_Stanford['world_rank'],errors='coerce')\n"
     ]
    }
   ],
   "source": [
    "shanghaiData_Stanford = shanghaiData[shanghaiData['university_name']=='Stanford University']\n",
    "shanghaiData_Stanford['world_rank'] = pd.to_numeric(shanghaiData_Stanford['world_rank'],errors='coerce')"
   ]
  },
  {
   "cell_type": "markdown",
   "metadata": {},
   "source": [
    "## Join the 3 datasets for Stanford"
   ]
  },
  {
   "cell_type": "code",
   "execution_count": 15,
   "metadata": {
    "ExecuteTime": {
     "end_time": "2020-12-01T02:38:18.000494Z",
     "start_time": "2020-12-01T02:38:17.905461Z"
    }
   },
   "outputs": [
    {
     "name": "stderr",
     "output_type": "stream",
     "text": [
      "/home/amit/miniconda3/envs/ds_basic/lib/python3.8/site-packages/pandas/core/frame.py:4125: SettingWithCopyWarning: \n",
      "A value is trying to be set on a copy of a slice from a DataFrame\n",
      "\n",
      "See the caveats in the documentation: https://pandas.pydata.org/pandas-docs/stable/user_guide/indexing.html#returning-a-view-versus-a-copy\n",
      "  return super().rename(\n"
     ]
    }
   ],
   "source": [
    "cwurData_Stanford.rename(columns={'institution':'university_name'},inplace=True)"
   ]
  },
  {
   "cell_type": "code",
   "execution_count": 16,
   "metadata": {
    "ExecuteTime": {
     "end_time": "2020-12-01T02:38:18.132509Z",
     "start_time": "2020-12-01T02:38:18.002908Z"
    }
   },
   "outputs": [],
   "source": [
    "ranking_Stanford = timesData_Stanford.merge(\n",
    "    cwurData_Stanford, \n",
    "    on=['university_name','year'],\n",
    "    suffixes=(\"_times\",\"_cwur\")).merge(\n",
    "    shanghaiData_Stanford, \n",
    "    on=['university_name','year'],\n",
    "    suffixes=(None,\"_shan\"))"
   ]
  },
  {
   "cell_type": "code",
   "execution_count": 17,
   "metadata": {
    "ExecuteTime": {
     "end_time": "2020-12-01T02:38:18.239289Z",
     "start_time": "2020-12-01T02:38:18.134484Z"
    }
   },
   "outputs": [
    {
     "name": "stdout",
     "output_type": "stream",
     "text": [
      "<class 'pandas.core.frame.DataFrame'>\n",
      "Int64Index: 4 entries, 0 to 3\n",
      "Data columns (total 37 columns):\n",
      " #   Column                  Non-Null Count  Dtype  \n",
      "---  ------                  --------------  -----  \n",
      " 0   world_rank_times        4 non-null      int64  \n",
      " 1   university_name         4 non-null      object \n",
      " 2   country_times           4 non-null      object \n",
      " 3   teaching                4 non-null      float64\n",
      " 4   international           4 non-null      float64\n",
      " 5   research                4 non-null      float64\n",
      " 6   citations_times         4 non-null      float64\n",
      " 7   income                  4 non-null      float64\n",
      " 8   total_score             4 non-null      float64\n",
      " 9   num_students            4 non-null      float64\n",
      " 10  student_staff_ratio     4 non-null      float64\n",
      " 11  international_students  4 non-null      float64\n",
      " 12  female_male_ratio       4 non-null      object \n",
      " 13  year                    4 non-null      int64  \n",
      " 14  female                  4 non-null      float64\n",
      " 15  male                    4 non-null      float64\n",
      " 16  world_rank_cwur         4 non-null      int64  \n",
      " 17  country_cwur            4 non-null      object \n",
      " 18  national_rank           4 non-null      int64  \n",
      " 19  quality_of_education    4 non-null      int64  \n",
      " 20  alumni_employment       4 non-null      int64  \n",
      " 21  quality_of_faculty      4 non-null      int64  \n",
      " 22  publications            4 non-null      int64  \n",
      " 23  influence               4 non-null      int64  \n",
      " 24  citations_cwur          4 non-null      int64  \n",
      " 25  broad_impact            2 non-null      float64\n",
      " 26  patents                 4 non-null      int64  \n",
      " 27  score                   4 non-null      float64\n",
      " 28  world_rank              4 non-null      int64  \n",
      " 29  national_rank_shan      4 non-null      object \n",
      " 30  total_score_shan        4 non-null      float64\n",
      " 31  alumni                  4 non-null      float64\n",
      " 32  award                   4 non-null      float64\n",
      " 33  hici                    4 non-null      float64\n",
      " 34  ns                      4 non-null      float64\n",
      " 35  pub                     4 non-null      float64\n",
      " 36  pcp                     4 non-null      float64\n",
      "dtypes: float64(20), int64(12), object(5)\n",
      "memory usage: 1.2+ KB\n"
     ]
    }
   ],
   "source": [
    "ranking_Stanford.info()"
   ]
  },
  {
   "cell_type": "code",
   "execution_count": 35,
   "metadata": {
    "ExecuteTime": {
     "end_time": "2020-12-01T02:46:47.935921Z",
     "start_time": "2020-12-01T02:46:47.707120Z"
    }
   },
   "outputs": [
    {
     "data": {
      "text/plain": [
       "<matplotlib.legend.Legend at 0x7f4fad745be0>"
      ]
     },
     "execution_count": 35,
     "metadata": {},
     "output_type": "execute_result"
    },
    {
     "data": {
      "image/png": "[encoded data removed]",
      "text/plain": [
       "<Figure size 432x288 with 1 Axes>"
      ]
     },
     "metadata": {
      "needs_background": "light"
     },
     "output_type": "display_data"
    }
   ],
   "source": [
    "fig, ax = plt.subplots()\n",
    "ax.plot(ranking_Stanford['year'],ranking_Stanford['world_rank_times'],'bd',label='times')\n",
    "ax.plot(ranking_Stanford['year'],ranking_Stanford['world_rank_cwur'],'go',label='cwur')\n",
    "ax.plot(ranking_Stanford['year'],ranking_Stanford['world_rank'],'r.',label='shanghai')\n",
    "ax.legend()"
   ]
  },
  {
   "cell_type": "code",
   "execution_count": null,
   "metadata": {},
   "outputs": [],
   "source": []
  }
 ],
 "metadata": {
  "kernelspec": {
   "display_name": "Python 3",
   "language": "python",
   "name": "python3"
  },
  "language_info": {
   "codemirror_mode": {
    "name": "ipython",
    "version": 3
   },
   "file_extension": ".py",
   "mimetype": "text/x-python",
   "name": "python",
   "nbconvert_exporter": "python",
   "pygments_lexer": "ipython3",
   "version": "3.8.3"
  },
  "toc": {
   "base_numbering": 1,
   "nav_menu": {},
   "number_sections": true,
   "sideBar": true,
   "skip_h1_title": false,
   "title_cell": "Table of Contents",
   "title_sidebar": "Contents",
   "toc_cell": false,
   "toc_position": {},
   "toc_section_display": true,
   "toc_window_display": true
  },
  "varInspector": {
   "cols": {
    "lenName": 16,
    "lenType": 16,
    "lenVar": 40
   },
   "kernels_config": {
    "python": {
     "delete_cmd_postfix": "",
     "delete_cmd_prefix": "del ",
     "library": "var_list.py",
     "varRefreshCmd": "print(var_dic_list())"
    },
    "r": {
     "delete_cmd_postfix": ") ",
     "delete_cmd_prefix": "rm(",
     "library": "var_list.r",
     "varRefreshCmd": "cat(var_dic_list()) "
    }
   },
   "types_to_exclude": [
    "module",
    "function",
    "builtin_function_or_method",
    "instance",
    "_Feature"
   ],
   "window_display": false
  }
 },
 "nbformat": 4,
 "nbformat_minor": 4
}
